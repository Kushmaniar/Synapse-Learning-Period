{
  "nbformat": 4,
  "nbformat_minor": 0,
  "metadata": {
    "colab": {
      "name": "week8_part2_task.ipynb",
      "provenance": [],
      "collapsed_sections": []
    },
    "kernelspec": {
      "name": "python3",
      "display_name": "Python 3"
    },
    "language_info": {
      "name": "python"
    },
    "accelerator": "GPU"
  },
  "cells": [
    {
      "cell_type": "markdown",
      "metadata": {
        "id": "NVdR1p0yN1YE"
      },
      "source": [
        "# Class Models, Custom Layers, GPU training and Custom Resnets"
      ]
    },
    {
      "cell_type": "markdown",
      "metadata": {
        "id": "5jVXoMVAzLdj"
      },
      "source": [
        "## Instructions\n",
        "1. Use Google Collab for this task\n",
        "2. change runtime type to GPU in the Runtime tab"
      ]
    },
    {
      "cell_type": "markdown",
      "metadata": {
        "id": "Q0OSmQlRtyMh"
      },
      "source": [
        "## Making models using class\n",
        "\n",
        "1. In earlier tasks, we learnt how to make a model using the sequential api provided by tensorflow.\n",
        "2. Now we learnt how to make a model using a class based approach."
      ]
    },
    {
      "cell_type": "markdown",
      "metadata": {
        "id": "T67gFCm5yKJ0"
      },
      "source": [
        "1. <b>Import</b>"
      ]
    },
    {
      "cell_type": "code",
      "metadata": {
        "id": "Bvd3N1aMte77"
      },
      "source": [
        "import numpy as np\n",
        "import tensorflow as tf\n",
        "import matplotlib.pyplot as plt\n",
        "from tensorflow import keras\n",
        "from tensorflow.keras import Sequential, layers, initializers, models, callbacks, optimizers\n",
        "from tensorflow.keras.models import Model\n",
        "from tensorflow.keras.utils import to_categorical\n",
        "from tensorflow.keras.datasets import mnist"
      ],
      "execution_count": 1,
      "outputs": []
    },
    {
      "cell_type": "markdown",
      "metadata": {
        "id": "qaaIDs0Xyeve"
      },
      "source": [
        "2. <b>To avoid GPU errors</b>"
      ]
    },
    {
      "cell_type": "code",
      "metadata": {
        "id": "lEZk_IRuydWT"
      },
      "source": [
        "physical_devices = tf.config.list_physical_devices(\"GPU\")\n",
        "tf.config.experimental.set_memory_growth(physical_devices[0], True) "
      ],
      "execution_count": 2,
      "outputs": []
    },
    {
      "cell_type": "markdown",
      "metadata": {
        "id": "qszmpUatzwPs"
      },
      "source": [
        "3. <b>Loading MNIST Data</b>"
      ]
    },
    {
      "cell_type": "code",
      "metadata": {
        "id": "fw4x8BFxzHHb",
        "colab": {
          "base_uri": "https://localhost:8080/"
        },
        "outputId": "8e23bc63-7f93-44fd-d62b-b9ab153988c0"
      },
      "source": [
        "(x_train, y_train) , (x_test, y_test) = mnist.load_data()\n",
        "#flattening the images into 1 dimensional array\n",
        "x_train = x_train.reshape(-1, 28*28).astype(\"float32\") / 255.0\n",
        "x_test = x_test.reshape(-1, 28*28).astype(\"float32\") / 255.0"
      ],
      "execution_count": 3,
      "outputs": [
        {
          "output_type": "stream",
          "name": "stdout",
          "text": [
            "Downloading data from https://storage.googleapis.com/tensorflow/tf-keras-datasets/mnist.npz\n",
            "11493376/11490434 [==============================] - 0s 0us/step\n",
            "11501568/11490434 [==============================] - 0s 0us/step\n"
          ]
        }
      ]
    },
    {
      "cell_type": "code",
      "metadata": {
        "id": "4CTHTVKj0jh6",
        "colab": {
          "base_uri": "https://localhost:8080/"
        },
        "outputId": "fb9ca9d9-c197-469a-aef5-bac9b163b1e4"
      },
      "source": [
        "len(x_train)"
      ],
      "execution_count": 4,
      "outputs": [
        {
          "output_type": "execute_result",
          "data": {
            "text/plain": [
              "60000"
            ]
          },
          "metadata": {},
          "execution_count": 4
        }
      ]
    },
    {
      "cell_type": "code",
      "metadata": {
        "id": "849L-lA80lN4",
        "colab": {
          "base_uri": "https://localhost:8080/"
        },
        "outputId": "c250b6a8-c5f1-46e7-fc5a-f3a57d95dd3a"
      },
      "source": [
        "len(x_test)"
      ],
      "execution_count": 5,
      "outputs": [
        {
          "output_type": "execute_result",
          "data": {
            "text/plain": [
              "10000"
            ]
          },
          "metadata": {},
          "execution_count": 5
        }
      ]
    },
    {
      "cell_type": "markdown",
      "metadata": {
        "id": "FWRIJkRa05n6"
      },
      "source": [
        "4. <b>Building the model</b>"
      ]
    },
    {
      "cell_type": "code",
      "metadata": {
        "id": "zJARi9jQ0rfr"
      },
      "source": [
        "#we will extend the class from keras.Model\n",
        "#this means that we can use the functionalities of keras.model\n",
        "#extending a class is an object oriented concept, so google that if you are confused\n",
        "class MyModel(keras.Model):\n",
        "\n",
        "  def __init__(self):\n",
        "    super(MyModel, self).__init__() #super is also an object oriented thing which allows us to call the init method of the parent class (keras.Model here)\n",
        "    self.dense1 = layers.Dense(64) #self links the variable to the class. You can access dense1 anywhere in this class by using self.dense1\n",
        "    self.dense2 = layers.Dense(10)\n",
        "\n",
        "  def call(self, input_tensor):\n",
        "    x = tf.nn.relu(self.dense1(input_tensor))\n",
        "    x = self.dense2(x)\n",
        "    return x"
      ],
      "execution_count": 6,
      "outputs": []
    },
    {
      "cell_type": "markdown",
      "metadata": {
        "id": "OoTVfSbf6l_Q"
      },
      "source": [
        "5. <b>Creating the model object</b>"
      ]
    },
    {
      "cell_type": "code",
      "metadata": {
        "id": "fQx1h46h6lBR"
      },
      "source": [
        "model = MyModel()"
      ],
      "execution_count": 7,
      "outputs": []
    },
    {
      "cell_type": "markdown",
      "metadata": {
        "id": "Y6kOrpUT6yRV"
      },
      "source": [
        "6. <b>Compiling the model</b>"
      ]
    },
    {
      "cell_type": "code",
      "metadata": {
        "id": "v-8eI1MO6tYS"
      },
      "source": [
        "model.compile(\n",
        "    loss = keras.losses.SparseCategoricalCrossentropy(from_logits=True),\n",
        "    optimizer = keras.optimizers.Adam(),\n",
        "    metrics = ['accuracy'],\n",
        ")\n"
      ],
      "execution_count": 8,
      "outputs": []
    },
    {
      "cell_type": "markdown",
      "metadata": {
        "id": "DixE2_s473n-"
      },
      "source": [
        "7. <b>Fitting the model"
      ]
    },
    {
      "cell_type": "code",
      "metadata": {
        "id": "WwOXXNQS7La1",
        "colab": {
          "base_uri": "https://localhost:8080/"
        },
        "outputId": "268d7be0-c89c-4148-a51e-24f1e2dba14e"
      },
      "source": [
        "model.fit(x_train, y_train, batch_size=32, epochs=2)"
      ],
      "execution_count": 9,
      "outputs": [
        {
          "output_type": "stream",
          "name": "stdout",
          "text": [
            "Epoch 1/2\n",
            "1875/1875 [==============================] - 7s 3ms/step - loss: 0.2940 - accuracy: 0.9182\n",
            "Epoch 2/2\n",
            "1875/1875 [==============================] - 5s 3ms/step - loss: 0.1394 - accuracy: 0.9589\n"
          ]
        },
        {
          "output_type": "execute_result",
          "data": {
            "text/plain": [
              "<keras.callbacks.History at 0x7f26f008c750>"
            ]
          },
          "metadata": {},
          "execution_count": 9
        }
      ]
    },
    {
      "cell_type": "markdown",
      "metadata": {
        "id": "1AO3QvJr8_VX"
      },
      "source": [
        "6. <b>Evaluate the model</b>"
      ]
    },
    {
      "cell_type": "code",
      "metadata": {
        "id": "-MLpsRt58GC6",
        "colab": {
          "base_uri": "https://localhost:8080/"
        },
        "outputId": "a99353c7-89e2-448a-ee12-8f016d0bb781"
      },
      "source": [
        "model.evaluate(x_test, y_test, batch_size=32)"
      ],
      "execution_count": 10,
      "outputs": [
        {
          "output_type": "stream",
          "name": "stdout",
          "text": [
            "313/313 [==============================] - 1s 3ms/step - loss: 0.1222 - accuracy: 0.9621\n"
          ]
        },
        {
          "output_type": "execute_result",
          "data": {
            "text/plain": [
              "[0.12221387773752213, 0.9621000289916992]"
            ]
          },
          "metadata": {},
          "execution_count": 10
        }
      ]
    },
    {
      "cell_type": "markdown",
      "metadata": {
        "id": "K8GUhKhs-RIL"
      },
      "source": [
        "<b>Why class based</b>\n",
        "1. allows for better code visualization\n",
        "2. better connectivity\n",
        "3. helps in modularizing the code"
      ]
    },
    {
      "cell_type": "markdown",
      "metadata": {
        "id": "KTQn7xVS-baA"
      },
      "source": [
        "<b>Now we'll learn to make the layers (like Dense) using classes</b><br><br>\n",
        "<b>Why do we need to dive till making layers?</b>\n",
        "1. sometimes when we make our own models, we want to do our operations.<br><br>\n",
        "  a. dense follows the operation WX+b<br><br>\n",
        "  b. while back propogation, tf uses it's own automatic derivative algorithm to calculate the derivative of this operation and uses it for gradient descent.<br><br>\n",
        "  c. What if we want to implement a dense operation which does (WX x 5) + (7 x b)? How will tensorflow account for this derivative?<br><br>\n",
        "  d. The answer is : by using the keras.Layer class to build the layer <br><br>\n",
        "\n",
        "2. Hence, we can do any complex operation using the Layer class and tensorflow will account for its derivative during back propogation."
      ]
    },
    {
      "cell_type": "code",
      "metadata": {
        "id": "d00WbYM_Dgun"
      },
      "source": [
        ""
      ],
      "execution_count": null,
      "outputs": []
    },
    {
      "cell_type": "markdown",
      "metadata": {
        "id": "0jjbIKZ79fCX"
      },
      "source": [
        "## Making layers using classes"
      ]
    },
    {
      "cell_type": "markdown",
      "metadata": {
        "id": "_LSso33-Doc8"
      },
      "source": [
        "1. <b>Building the Dense layer from scratch</b>"
      ]
    },
    {
      "cell_type": "code",
      "metadata": {
        "id": "vS88cD5C9mbX"
      },
      "source": [
        "class MyDense(layers.Layer):\n",
        "  #when object created, first init is called\n",
        "  def __init__(self, units=32):\n",
        "      super(MyDense, self).__init__()\n",
        "      self.units = units\n",
        "\n",
        "  #init automatically calls build and the weights are set. init passes the input shape to build automatically. (input shape for dense 1 will be (batch_size, 784) 28*28=784, for dense 2 -> (batch_size,64))\n",
        "  def build(self, input_shape):\n",
        "      print(input_shape)\n",
        "      self.w = self.add_weight(shape=(input_shape[-1], self.units), #why do we choose this shape? ponder (make a neural net diagram and see what shape fits the matrix multiplication W*X)\n",
        "                               initializer='random_normal', #what other initialization methods exist?\n",
        "                               trainable=True)\n",
        "      self.b = self.add_weight(shape=(self.units,),\n",
        "                               initializer='zeros',\n",
        "                               trainable=True)\n",
        "\n",
        "  #build calls the call function which executes the operation\n",
        "  def call(self, inputs):\n",
        "      return tf.matmul(inputs, self.w) + self.b"
      ],
      "execution_count": 6,
      "outputs": []
    },
    {
      "cell_type": "markdown",
      "metadata": {
        "id": "MOweaJ9gFcwG"
      },
      "source": [
        "2. <b>Using custom Dense to build MyModel</b>"
      ]
    },
    {
      "cell_type": "code",
      "metadata": {
        "id": "M1VtughXFbrZ"
      },
      "source": [
        "#we will extend the class from keras.Model\n",
        "#this means that we can use the functionalities of keras.model\n",
        "#extending a class is an object oriented concept, so google that if you are confused\n",
        "class MyModel(keras.Model):\n",
        "\n",
        "  def __init__(self):\n",
        "    super(MyModel, self).__init__() #super is also an object oriented thing which allows us to call the init method of the parent class (keras.Model here)\n",
        "    self.dense1 = MyDense(64) #self links the variable to the class. You can access dense1 anywhere in this class by using self.dense1\n",
        "    self.dense2 = MyDense(10)\n",
        "\n",
        "  def call(self, input_tensor):\n",
        "    x = tf.nn.relu(self.dense1(input_tensor))\n",
        "    x = self.dense2(x)\n",
        "    return x"
      ],
      "execution_count": null,
      "outputs": []
    },
    {
      "cell_type": "markdown",
      "metadata": {
        "id": "Y9jXYFrmFxUZ"
      },
      "source": [
        "3. <b>Training the model </b>\n"
      ]
    },
    {
      "cell_type": "code",
      "metadata": {
        "id": "3e0orLBUFvKP"
      },
      "source": [
        "#train the model\n",
        "custom_model = MyModel()\n",
        "#write code here"
      ],
      "execution_count": 11,
      "outputs": []
    },
    {
      "cell_type": "markdown",
      "metadata": {
        "id": "3j_Nuwg8KJmL"
      },
      "source": [
        "4. <b>Testing the model </b>\n"
      ]
    },
    {
      "cell_type": "code",
      "metadata": {
        "id": "fu9nFqd4F5wP"
      },
      "source": [
        "#evaluate the model\n",
        "#write code here\n",
        "model.compile(\n",
        "    loss = keras.losses.SparseCategoricalCrossentropy(from_logits=True),\n",
        "    optimizer = keras.optimizers.Adam(),\n",
        "    metrics = ['accuracy'],\n",
        ")"
      ],
      "execution_count": 26,
      "outputs": []
    },
    {
      "cell_type": "markdown",
      "metadata": {
        "id": "g1P0__HUKSOJ"
      },
      "source": [
        "#### We got a very similar result with our own Dense Layer"
      ]
    },
    {
      "cell_type": "code",
      "metadata": {
        "id": "PzXSNjRuKPl3"
      },
      "source": [
        ""
      ],
      "execution_count": null,
      "outputs": []
    },
    {
      "cell_type": "markdown",
      "metadata": {
        "id": "0Saeq1rcLWNg"
      },
      "source": [
        "## Now your turn\n",
        "1. We will build a mini custom version of ResNet CNN architecture using the keras.Model\n",
        "\n",
        "2. Resnet solves the problem of vanishing gradients (https://www.youtube.com/watch?v=JIWXbzRXk1I) and allows us to build very deep neural networks.\n",
        "\n",
        "\n",
        "RESNET BLOG RESOURCE : https://towardsdatascience.com/understanding-and-visualizing-resnets-442284831be8\n",
        "\n",
        "RESNET VIDEO RESOURCE : https://www.youtube.com/watch?v=sAzL4XMke80&t=314s\n",
        "\n",
        "Read the above blog carefully and watch the video for better understanding as well."
      ]
    },
    {
      "cell_type": "markdown",
      "metadata": {
        "id": "QGrDssFOM-dm"
      },
      "source": [
        "#### <b>Our Custom Model architecture</b>\n",
        "DATASET -> MNIST\n",
        "\n",
        "1. Input -> 28,28,1 images\n",
        "2. 8 filters of 5x5, padding none => (24,24,8)\n",
        "3. Resblock 1\n",
        "  - 16 filters of 7x7, padding none => (18,18,16) <b>[im_res_1]</b>\n",
        "  - 16 filters of 8x8, padding same => (18,18,16)\n",
        "  - 16 filters of 10x10, padding same => (18,18,16) <b>[output_res_1]</b>\n",
        "  - (sum of output_res_1 and im_res_1 here) => (18,18,16)\n",
        "4. maxpooling => (9,9,16)\n",
        "5. Resblock 2\n",
        "  - 32 filters of 6x6, padding none => (4,4,32) <b>[im_res_2]</b>\n",
        "  - 32 filters of 7x7, padding same => (4,4,32)\n",
        "  - 32 filters of 8x8, padding same => (4,4,32) <b>[output_res_2]</b>\n",
        "  - (sum of output_res_2 and im_res_2 here) => (4,4,32)\n",
        "6. maxpooling => (2, 2, 32)\n",
        "7. Flatten => (128,1)\n",
        "8. Dense, 64 units => (64,1)\n",
        "9. Dense, 10 units => (10, 1)\n",
        "10. use softmax to predict\n",
        "\n"
      ]
    },
    {
      "cell_type": "markdown",
      "metadata": {
        "id": "Fb1biy3uSRDd"
      },
      "source": [
        "### <b>Instructions</b>\n",
        "1. Build the custom Resnet model based on the architecture described above\n",
        "2. Only use class based approach\n",
        "3. Create a custom model using class based approach. Name the Class CustomResNet\n",
        "4. Use RELU as activation function, Batch normalization after every layer\n",
        "5. reload the data as it was already flattened before\n",
        "6. Use custom layers only if you find the use case for it here \n",
        "\n",
        "### <b>Notes</b>\n",
        "1. all layers are supposed to be defined in the init method.If defined anyehere else, will result in errors.\n",
        "2. Repititive layers will need seperate initializations\n",
        "3. you can check if your model is correct by the following code : -\n",
        " - model = CustomResNet()\n",
        " - model.build((None,28,28,1))\n",
        " - model.summary()\n",
        "4. Summary must have all layers defined and the trainable paramaetrs should not be zero"
      ]
    },
    {
      "cell_type": "code",
      "metadata": {
        "id": "XYTxhj0pWmPO"
      },
      "source": [
        "#imports that you can use\n",
        "from tensorflow.keras.layers import Flatten, Dense, Conv2D, Dropout, BatchNormalization, Activation, Add, Input, MaxPool2D\n",
        "tf.config.run_functions_eagerly(True)"
      ],
      "execution_count": 2,
      "outputs": []
    },
    {
      "cell_type": "code",
      "metadata": {
        "id": "nY2ag3fdas_m",
        "colab": {
          "base_uri": "https://localhost:8080/"
        },
        "outputId": "a7702932-aede-4432-e551-dfa9d5969eed"
      },
      "source": [
        "# load the mnist dataset here\n",
        "# make sure to resize the dataset to consider the 3rd image dimension as well\n",
        "# dataset shape must be (num_images, height, width, channel)\n",
        "# divide data into train and test\n",
        "\n",
        "# write code here\n",
        "(x_train, y_train) , (x_test, y_test) = mnist.load_data()\n",
        "x_train = x_train.reshape(-1, 28,28,1).astype(\"float32\") / 255.0\n",
        "x_test = x_test.reshape(-1, 28,28,1).astype(\"float32\") / 255.0"
      ],
      "execution_count": 3,
      "outputs": [
        {
          "output_type": "stream",
          "name": "stdout",
          "text": [
            "Downloading data from https://storage.googleapis.com/tensorflow/tf-keras-datasets/mnist.npz\n",
            "11493376/11490434 [==============================] - 0s 0us/step\n",
            "11501568/11490434 [==============================] - 0s 0us/step\n"
          ]
        }
      ]
    },
    {
      "cell_type": "code",
      "metadata": {
        "id": "nvxmpl1OU67p"
      },
      "source": [
        "#make a class based model for Custom ResNet (refer instructions and notes above)\n",
        "# write code here\n",
        "class CustomResNet(keras.Model) :\n",
        "  def __init__(self):\n",
        "    super(CustomResNet, self).__init__()\n",
        "    self.conv1=layers.Conv2D(filters=8,kernel_size=(5,5),padding='valid',activation='relu')\n",
        "    self.bn1=layers.BatchNormalization()\n",
        "    self.conv2=layers.Conv2D(filters=16,padding='valid',kernel_size=(7,7),activation='relu')\n",
        "    self.bn2=layers.BatchNormalization()\n",
        "    self.conv3=layers.Conv2D(filters=16,padding='same',kernel_size=(8,8),activation='relu')\n",
        "    self.bn3=layers.BatchNormalization()\n",
        "    self.conv4=layers.Conv2D(filters=16,padding='same',kernel_size=(10,10),activation='relu')\n",
        "    self.bn4=layers.BatchNormalization()\n",
        "    self.pool1=layers.MaxPooling2D(pool_size=(2,2))\n",
        "    self.conv5=layers.Conv2D(filters=32,padding='valid'kernel_size=(6,6),,activation='relu')\n",
        "    self.bn5=layers.BatchNormalization()\n",
        "    self.conv6=layers.Conv2D(filters=32,padding='same',kernel_size=(7,7),activation='relu')\n",
        "    self.bn6=layers.BatchNormalization()\n",
        "    self.conv7=layers.Conv2D(filters=32,padding='same',kernel_size=(8,8),activation='relu')\n",
        "    self.bn7=layers.BatchNormalization()\n",
        "    self.pool2=layers.MaxPooling2D(pool_size=(2,2))\n",
        "    self.flat=layers.Flatten()\n",
        "    self.dense1 = MyDense(64)\n",
        "    self.dense2 = MyDense(10)\n",
        "\n",
        "  def call(self, input_tensor):\n",
        "    x=tf.nn.relu(self.conv1(input_tensor))\n",
        "    x=self.bn1(x)\n",
        "    x=self.conv2(x)\n",
        "    x1=self.bn2(x)\n",
        "    x=self.conv3(x)\n",
        "    x=self.bn3(x)\n",
        "    x=self.conv4(x)\n",
        "    x2=self.bn4(x)\n",
        "    x=x1+x2\n",
        "    x=self.pool1(x)\n",
        "    x=self.conv5(x)\n",
        "    x1=self.bn5(x)\n",
        "    x=self.conv6(x)\n",
        "    x=self.bn6(x)\n",
        "    x=self.conv7(x)\n",
        "    x2=self.bn7(x)\n",
        "    x=x1+x2\n",
        "    x=self.pool2(x)\n",
        "    x=self.flat(x)\n",
        "    x=self.dense1(x)\n",
        "    x=tf.nn.softmax(self.dense2(x))\n",
        "    return x\n"
      ],
      "execution_count": 7,
      "outputs": []
    },
    {
      "cell_type": "code",
      "metadata": {
        "id": "WRWTnXtxaEEz",
        "colab": {
          "base_uri": "https://localhost:8080/"
        },
        "outputId": "683531a1-b9cd-4a93-a758-2a5843154ecb"
      },
      "source": [
        "#find summary of model\n",
        "# write code here\n",
        "model = CustomResNet()\n",
        "model.build((60000,28,28,1))\n",
        "model.summary()"
      ],
      "execution_count": 8,
      "outputs": [
        {
          "output_type": "stream",
          "name": "stdout",
          "text": [
            "(60000, 128)\n",
            "(60000, 64)\n",
            "Model: \"custom_res_net_1\"\n",
            "_________________________________________________________________\n",
            " Layer (type)                Output Shape              Param #   \n",
            "=================================================================\n",
            " conv2d_7 (Conv2D)           multiple                  208       \n",
            "                                                                 \n",
            " batch_normalization_7 (Batc  multiple                 32        \n",
            " hNormalization)                                                 \n",
            "                                                                 \n",
            " conv2d_8 (Conv2D)           multiple                  6288      \n",
            "                                                                 \n",
            " batch_normalization_8 (Batc  multiple                 64        \n",
            " hNormalization)                                                 \n",
            "                                                                 \n",
            " conv2d_9 (Conv2D)           multiple                  16400     \n",
            "                                                                 \n",
            " batch_normalization_9 (Batc  multiple                 64        \n",
            " hNormalization)                                                 \n",
            "                                                                 \n",
            " conv2d_10 (Conv2D)          multiple                  25616     \n",
            "                                                                 \n",
            " batch_normalization_10 (Bat  multiple                 64        \n",
            " chNormalization)                                                \n",
            "                                                                 \n",
            " max_pooling2d_2 (MaxPooling  multiple                 0         \n",
            " 2D)                                                             \n",
            "                                                                 \n",
            " conv2d_11 (Conv2D)          multiple                  18464     \n",
            "                                                                 \n",
            " batch_normalization_11 (Bat  multiple                 128       \n",
            " chNormalization)                                                \n",
            "                                                                 \n",
            " conv2d_12 (Conv2D)          multiple                  50208     \n",
            "                                                                 \n",
            " batch_normalization_12 (Bat  multiple                 128       \n",
            " chNormalization)                                                \n",
            "                                                                 \n",
            " conv2d_13 (Conv2D)          multiple                  65568     \n",
            "                                                                 \n",
            " batch_normalization_13 (Bat  multiple                 128       \n",
            " chNormalization)                                                \n",
            "                                                                 \n",
            " max_pooling2d_3 (MaxPooling  multiple                 0         \n",
            " 2D)                                                             \n",
            "                                                                 \n",
            " flatten_1 (Flatten)         multiple                  0         \n",
            "                                                                 \n",
            " my_dense (MyDense)          multiple                  8256      \n",
            "                                                                 \n",
            " my_dense_1 (MyDense)        multiple                  650       \n",
            "                                                                 \n",
            "=================================================================\n",
            "Total params: 192,266\n",
            "Trainable params: 191,962\n",
            "Non-trainable params: 304\n",
            "_________________________________________________________________\n"
          ]
        }
      ]
    },
    {
      "cell_type": "code",
      "metadata": {
        "id": "DAo3M5HaaJ8D",
        "colab": {
          "base_uri": "https://localhost:8080/"
        },
        "outputId": "a9d80e93-9b79-428e-8a47-9658cc336c35"
      },
      "source": [
        "#train model here\n",
        "model.compile(optimizer='adam',\n",
        "              loss='sparse_categorical_crossentropy',\n",
        "              metrics=['accuracy'])\n",
        "model.fit(x_train, y_train, batch_size=32, epochs=2)"
      ],
      "execution_count": 18,
      "outputs": [
        {
          "output_type": "stream",
          "name": "stderr",
          "text": [
            "/usr/local/lib/python3.7/dist-packages/tensorflow/python/data/ops/dataset_ops.py:4527: UserWarning: Even though the `tf.config.experimental_run_functions_eagerly` option is set, this option does not apply to tf.data functions. To force eager execution of tf.data functions, please use `tf.data.experimental.enable_debug_mode()`.\n",
            "  \"Even though the `tf.config.experimental_run_functions_eagerly` \"\n"
          ]
        },
        {
          "output_type": "stream",
          "name": "stdout",
          "text": [
            "Epoch 1/2\n",
            "1875/1875 [==============================] - 97s 52ms/step - loss: 0.1078 - accuracy: 0.9679\n",
            "Epoch 2/2\n",
            "1875/1875 [==============================] - 96s 51ms/step - loss: 0.0465 - accuracy: 0.9864\n"
          ]
        },
        {
          "output_type": "execute_result",
          "data": {
            "text/plain": [
              "<keras.callbacks.History at 0x7f0e4cf940d0>"
            ]
          },
          "metadata": {},
          "execution_count": 18
        }
      ]
    },
    {
      "cell_type": "code",
      "metadata": {
        "id": "Wvo7QLJNJLGA",
        "colab": {
          "base_uri": "https://localhost:8080/"
        },
        "outputId": "ef2ded87-bab3-469c-fe84-4d0146b25b9c"
      },
      "source": [
        "#evaluate model here\n",
        "model.evaluate(x_test, y_test, batch_size=32)\n"
      ],
      "execution_count": 19,
      "outputs": [
        {
          "output_type": "stream",
          "name": "stdout",
          "text": [
            "  3/313 [..............................] - ETA: 8s - loss: 0.0019 - accuracy: 1.0000 "
          ]
        },
        {
          "output_type": "stream",
          "name": "stderr",
          "text": [
            "/usr/local/lib/python3.7/dist-packages/tensorflow/python/data/ops/dataset_ops.py:4527: UserWarning: Even though the `tf.config.experimental_run_functions_eagerly` option is set, this option does not apply to tf.data functions. To force eager execution of tf.data functions, please use `tf.data.experimental.enable_debug_mode()`.\n",
            "  \"Even though the `tf.config.experimental_run_functions_eagerly` \"\n"
          ]
        },
        {
          "output_type": "stream",
          "name": "stdout",
          "text": [
            "313/313 [==============================] - 7s 22ms/step - loss: 0.0360 - accuracy: 0.9879\n"
          ]
        },
        {
          "output_type": "execute_result",
          "data": {
            "text/plain": [
              "[0.035953398793935776, 0.9879000186920166]"
            ]
          },
          "metadata": {},
          "execution_count": 19
        }
      ]
    },
    {
      "cell_type": "markdown",
      "metadata": {
        "id": "lzKdD3XAMrir"
      },
      "source": [
        "## Congratulations!\n",
        "#### Now you know how to build class based models and custom layers!"
      ]
    },
    {
      "cell_type": "code",
      "metadata": {
        "id": "xcEpZTjsKdvM"
      },
      "source": [
        ""
      ],
      "execution_count": null,
      "outputs": []
    }
  ]
}